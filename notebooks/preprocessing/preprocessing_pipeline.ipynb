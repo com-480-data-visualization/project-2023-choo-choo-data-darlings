{
 "cells": [
  {
   "attachments": {},
   "cell_type": "markdown",
   "metadata": {},
   "source": [
    "# 🧼 Data Preprocessing Pipeline\n",
    "\n",
    "This notebook provides a comprehensive data preprocessing pipeline for the transport dataset from the year 2022. The main goal is to clean and prepare the data for further analysis, ensuring its consistency and quality.\n",
    "\n",
    "The preprocessing pipeline includes the following steps:\n",
    "\n",
    "1. Loading data from the given files\n",
    "2. Translating column names\n",
    "3. Processing product IDs\n",
    "4. Processing transport types\n",
    "5. Downloading and loading BAV list (Betriebszentrale AV)\n",
    "6. Processing stop data\n",
    "7. Extracting stop data\n",
    "8. Processing arrival and departure times\n",
    "9. Handling inconsistent rows\n",
    "10. Extracting operator data\n",
    "11. Deleting unnecessary columns\n",
    "12. Adding delay columns\n",
    "13. Saving preprocessed data\n",
    "\n",
    "For memory considerations, the data is processed and saved day by day. A second step is performed using Spark, which is not included in this notebook, but can be found in the [spark](../../spark) folder.\n",
    "\n",
    "Furthermore, data about operators and stops is provided in separate files. These files are also loaded and processed in this notebook.\n",
    "\n",
    "The processed data is saved in the `data/preprocessed` folder, as three separate files:\n",
    "- `data/preprocessed/operators.csv`\n",
    "- `data/preprocessed/stops.csv`\n",
    "- `data/preprocessed/transports.csv`"
   ]
  },
  {
   "cell_type": "code",
   "execution_count": 15,
   "metadata": {},
   "outputs": [
    {
     "name": "stdout",
     "output_type": "stream",
     "text": [
      "The autoreload extension is already loaded. To reload it, use:\n",
      "  %reload_ext autoreload\n"
     ]
    }
   ],
   "source": [
    "%load_ext autoreload\n",
    "%autoreload 2"
   ]
  },
  {
   "cell_type": "code",
   "execution_count": 16,
   "metadata": {},
   "outputs": [],
   "source": [
    "import sys\n",
    "import os\n",
    "\n",
    "path_to_preprocessing = os.path.join('..', '..', 'src')\n",
    "sys.path.insert(0, path_to_preprocessing)\n",
    "\n",
    "from preprocessing.preprocessing_pipeline import preprocess_files\n",
    "from preprocessing.merge_data import merge_and_save_operator_data, merge_and_save_stop_data, merge_and_save_transport_data"
   ]
  },
  {
   "cell_type": "code",
   "execution_count": 95,
   "metadata": {},
   "outputs": [
    {
     "name": "stdout",
     "output_type": "stream",
     "text": [
      "📁 Found 253 valid file(s) in the data folder.\n"
     ]
    }
   ],
   "source": [
    "preprocess_files(\n",
    "    overwrite_existing_file=True,\n",
    "    print_progress=False\n",
    "    )"
   ]
  },
  {
   "cell_type": "code",
   "execution_count": 130,
   "metadata": {},
   "outputs": [],
   "source": [
    "merge_and_save_operator_data()"
   ]
  },
  {
   "cell_type": "code",
   "execution_count": 167,
   "metadata": {},
   "outputs": [],
   "source": [
    "merge_and_save_stop_data()"
   ]
  },
  {
   "cell_type": "code",
   "execution_count": 1,
   "metadata": {},
   "outputs": [
    {
     "data": {
      "text/html": [
       "<div>\n",
       "<style scoped>\n",
       "    .dataframe tbody tr th:only-of-type {\n",
       "        vertical-align: middle;\n",
       "    }\n",
       "\n",
       "    .dataframe tbody tr th {\n",
       "        vertical-align: top;\n",
       "    }\n",
       "\n",
       "    .dataframe thead th {\n",
       "        text-align: right;\n",
       "    }\n",
       "</style>\n",
       "<table border=\"1\" class=\"dataframe\">\n",
       "  <thead>\n",
       "    <tr style=\"text-align: right;\">\n",
       "      <th></th>\n",
       "      <th>trip_id</th>\n",
       "      <th>product_id</th>\n",
       "      <th>line_text</th>\n",
       "      <th>transport_type</th>\n",
       "      <th>stop_id</th>\n",
       "      <th>arrival_time</th>\n",
       "      <th>departure_time</th>\n",
       "      <th>mean_arrival_delay</th>\n",
       "      <th>mean_departure_delay</th>\n",
       "      <th>median_arrival_delay</th>\n",
       "      <th>median_departure_delay</th>\n",
       "      <th>std_arrival_delay</th>\n",
       "      <th>std_departure_delay</th>\n",
       "      <th>n_arrival_delay</th>\n",
       "      <th>n_departure_delay</th>\n",
       "      <th>n_cancelled</th>\n",
       "      <th>n_through_trip</th>\n",
       "      <th>n_additional_trip</th>\n",
       "      <th>n_entries</th>\n",
       "    </tr>\n",
       "  </thead>\n",
       "  <tbody>\n",
       "    <tr>\n",
       "      <th>0</th>\n",
       "      <td>80:06____:17171:000</td>\n",
       "      <td>Train</td>\n",
       "      <td>RB</td>\n",
       "      <td>RB</td>\n",
       "      <td>8500090</td>\n",
       "      <td>14:50:00</td>\n",
       "      <td>None</td>\n",
       "      <td>293.939394</td>\n",
       "      <td>NaN</td>\n",
       "      <td>120.0</td>\n",
       "      <td>NaN</td>\n",
       "      <td>388.229414</td>\n",
       "      <td>NaN</td>\n",
       "      <td>68</td>\n",
       "      <td>0</td>\n",
       "      <td>4</td>\n",
       "      <td>0</td>\n",
       "      <td>0</td>\n",
       "      <td>104</td>\n",
       "    </tr>\n",
       "    <tr>\n",
       "      <th>1</th>\n",
       "      <td>80:06____:17261:000</td>\n",
       "      <td>Train</td>\n",
       "      <td>RB</td>\n",
       "      <td>RB</td>\n",
       "      <td>8500090</td>\n",
       "      <td>None</td>\n",
       "      <td>15:53:00</td>\n",
       "      <td>NaN</td>\n",
       "      <td>61.621622</td>\n",
       "      <td>NaN</td>\n",
       "      <td>0.0</td>\n",
       "      <td>NaN</td>\n",
       "      <td>129.218022</td>\n",
       "      <td>0</td>\n",
       "      <td>9</td>\n",
       "      <td>1</td>\n",
       "      <td>0</td>\n",
       "      <td>0</td>\n",
       "      <td>104</td>\n",
       "    </tr>\n",
       "    <tr>\n",
       "      <th>2</th>\n",
       "      <td>80:800693:3053:000</td>\n",
       "      <td>Train</td>\n",
       "      <td>IRE3</td>\n",
       "      <td>IRE</td>\n",
       "      <td>8503424</td>\n",
       "      <td>11:58:00</td>\n",
       "      <td>12:00:00</td>\n",
       "      <td>151.539474</td>\n",
       "      <td>127.605263</td>\n",
       "      <td>41.0</td>\n",
       "      <td>19.0</td>\n",
       "      <td>627.797068</td>\n",
       "      <td>622.499501</td>\n",
       "      <td>60</td>\n",
       "      <td>73</td>\n",
       "      <td>2</td>\n",
       "      <td>0</td>\n",
       "      <td>0</td>\n",
       "      <td>78</td>\n",
       "    </tr>\n",
       "    <tr>\n",
       "      <th>3</th>\n",
       "      <td>80:80____:2887:000</td>\n",
       "      <td>Train</td>\n",
       "      <td>ICE</td>\n",
       "      <td>ICE</td>\n",
       "      <td>8500090</td>\n",
       "      <td>22:46:00</td>\n",
       "      <td>None</td>\n",
       "      <td>1080.000000</td>\n",
       "      <td>NaN</td>\n",
       "      <td>1080.0</td>\n",
       "      <td>NaN</td>\n",
       "      <td>NaN</td>\n",
       "      <td>NaN</td>\n",
       "      <td>1</td>\n",
       "      <td>0</td>\n",
       "      <td>0</td>\n",
       "      <td>0</td>\n",
       "      <td>1</td>\n",
       "      <td>1</td>\n",
       "    </tr>\n",
       "    <tr>\n",
       "      <th>4</th>\n",
       "      <td>80:sbg034:14004</td>\n",
       "      <td>Bus</td>\n",
       "      <td>Bus7349</td>\n",
       "      <td>B</td>\n",
       "      <td>8573327</td>\n",
       "      <td>09:07:00</td>\n",
       "      <td>None</td>\n",
       "      <td>2.400000</td>\n",
       "      <td>NaN</td>\n",
       "      <td>0.0</td>\n",
       "      <td>NaN</td>\n",
       "      <td>29.443320</td>\n",
       "      <td>NaN</td>\n",
       "      <td>5</td>\n",
       "      <td>0</td>\n",
       "      <td>0</td>\n",
       "      <td>0</td>\n",
       "      <td>0</td>\n",
       "      <td>100</td>\n",
       "    </tr>\n",
       "  </tbody>\n",
       "</table>\n",
       "</div>"
      ],
      "text/plain": [
       "               trip_id product_id line_text transport_type  stop_id  \\\n",
       "0  80:06____:17171:000      Train        RB             RB  8500090   \n",
       "1  80:06____:17261:000      Train        RB             RB  8500090   \n",
       "2   80:800693:3053:000      Train      IRE3            IRE  8503424   \n",
       "3   80:80____:2887:000      Train       ICE            ICE  8500090   \n",
       "4      80:sbg034:14004        Bus   Bus7349              B  8573327   \n",
       "\n",
       "  arrival_time departure_time  mean_arrival_delay  mean_departure_delay  \\\n",
       "0     14:50:00           None          293.939394                   NaN   \n",
       "1         None       15:53:00                 NaN             61.621622   \n",
       "2     11:58:00       12:00:00          151.539474            127.605263   \n",
       "3     22:46:00           None         1080.000000                   NaN   \n",
       "4     09:07:00           None            2.400000                   NaN   \n",
       "\n",
       "   median_arrival_delay  median_departure_delay  std_arrival_delay  \\\n",
       "0                 120.0                     NaN         388.229414   \n",
       "1                   NaN                     0.0                NaN   \n",
       "2                  41.0                    19.0         627.797068   \n",
       "3                1080.0                     NaN                NaN   \n",
       "4                   0.0                     NaN          29.443320   \n",
       "\n",
       "   std_departure_delay  n_arrival_delay  n_departure_delay  n_cancelled  \\\n",
       "0                  NaN               68                  0            4   \n",
       "1           129.218022                0                  9            1   \n",
       "2           622.499501               60                 73            2   \n",
       "3                  NaN                1                  0            0   \n",
       "4                  NaN                5                  0            0   \n",
       "\n",
       "   n_through_trip  n_additional_trip  n_entries  \n",
       "0               0                  0        104  \n",
       "1               0                  0        104  \n",
       "2               0                  0         78  \n",
       "3               0                  1          1  \n",
       "4               0                  0        100  "
      ]
     },
     "execution_count": 1,
     "metadata": {},
     "output_type": "execute_result"
    }
   ],
   "source": [
    "import pandas as pd\n",
    "\n",
    "data = pd.read_parquet(\"../../data/processed/transports.parquet\")\n",
    "data.head()"
   ]
  },
  {
   "cell_type": "code",
   "execution_count": 15,
   "metadata": {},
   "outputs": [
    {
     "data": {
      "text/plain": [
       "65804937"
      ]
     },
     "execution_count": 15,
     "metadata": {},
     "output_type": "execute_result"
    }
   ],
   "source": [
    "data.shape[0]"
   ]
  },
  {
   "cell_type": "code",
   "execution_count": 24,
   "metadata": {},
   "outputs": [],
   "source": [
    "data_sub = data[data[\"n_entries\"] > 10]"
   ]
  },
  {
   "cell_type": "code",
   "execution_count": 25,
   "metadata": {},
   "outputs": [
    {
     "data": {
      "text/plain": [
       "9580419"
      ]
     },
     "execution_count": 25,
     "metadata": {},
     "output_type": "execute_result"
    }
   ],
   "source": [
    "data_sub.shape[0]"
   ]
  },
  {
   "cell_type": "code",
   "execution_count": 26,
   "metadata": {},
   "outputs": [
    {
     "data": {
      "text/html": [
       "<div>\n",
       "<style scoped>\n",
       "    .dataframe tbody tr th:only-of-type {\n",
       "        vertical-align: middle;\n",
       "    }\n",
       "\n",
       "    .dataframe tbody tr th {\n",
       "        vertical-align: top;\n",
       "    }\n",
       "\n",
       "    .dataframe thead th {\n",
       "        text-align: right;\n",
       "    }\n",
       "</style>\n",
       "<table border=\"1\" class=\"dataframe\">\n",
       "  <thead>\n",
       "    <tr style=\"text-align: right;\">\n",
       "      <th></th>\n",
       "      <th>trip_id</th>\n",
       "      <th>stop_id</th>\n",
       "      <th>count</th>\n",
       "    </tr>\n",
       "  </thead>\n",
       "  <tbody>\n",
       "    <tr>\n",
       "      <th>3964126</th>\n",
       "      <td>85:834:55232</td>\n",
       "      <td>8504723</td>\n",
       "      <td>12</td>\n",
       "    </tr>\n",
       "    <tr>\n",
       "      <th>3996553</th>\n",
       "      <td>85:834:65010</td>\n",
       "      <td>8588341</td>\n",
       "      <td>10</td>\n",
       "    </tr>\n",
       "    <tr>\n",
       "      <th>3999954</th>\n",
       "      <td>85:834:65142</td>\n",
       "      <td>8588341</td>\n",
       "      <td>10</td>\n",
       "    </tr>\n",
       "    <tr>\n",
       "      <th>3964052</th>\n",
       "      <td>85:834:55226</td>\n",
       "      <td>8504723</td>\n",
       "      <td>10</td>\n",
       "    </tr>\n",
       "    <tr>\n",
       "      <th>3999645</th>\n",
       "      <td>85:834:65130</td>\n",
       "      <td>8588341</td>\n",
       "      <td>10</td>\n",
       "    </tr>\n",
       "    <tr>\n",
       "      <th>3997165</th>\n",
       "      <td>85:834:65034</td>\n",
       "      <td>8588341</td>\n",
       "      <td>10</td>\n",
       "    </tr>\n",
       "    <tr>\n",
       "      <th>4000263</th>\n",
       "      <td>85:834:65154</td>\n",
       "      <td>8588341</td>\n",
       "      <td>10</td>\n",
       "    </tr>\n",
       "    <tr>\n",
       "      <th>2197198</th>\n",
       "      <td>85:801:205-1657</td>\n",
       "      <td>8572502</td>\n",
       "      <td>9</td>\n",
       "    </tr>\n",
       "    <tr>\n",
       "      <th>2212774</th>\n",
       "      <td>85:801:213-1657</td>\n",
       "      <td>8572502</td>\n",
       "      <td>9</td>\n",
       "    </tr>\n",
       "    <tr>\n",
       "      <th>2423327</th>\n",
       "      <td>85:801:315-1658</td>\n",
       "      <td>8572502</td>\n",
       "      <td>9</td>\n",
       "    </tr>\n",
       "  </tbody>\n",
       "</table>\n",
       "</div>"
      ],
      "text/plain": [
       "                 trip_id  stop_id  count\n",
       "3964126     85:834:55232  8504723     12\n",
       "3996553     85:834:65010  8588341     10\n",
       "3999954     85:834:65142  8588341     10\n",
       "3964052     85:834:55226  8504723     10\n",
       "3999645     85:834:65130  8588341     10\n",
       "3997165     85:834:65034  8588341     10\n",
       "4000263     85:834:65154  8588341     10\n",
       "2197198  85:801:205-1657  8572502      9\n",
       "2212774  85:801:213-1657  8572502      9\n",
       "2423327  85:801:315-1658  8572502      9"
      ]
     },
     "execution_count": 26,
     "metadata": {},
     "output_type": "execute_result"
    }
   ],
   "source": [
    "res = data_sub.groupby(['trip_id', 'stop_id']) \\\n",
    "    .agg({'product_id': 'count'}) \\\n",
    "    .rename(columns={'product_id': 'count'}) \\\n",
    "    .reset_index()\n",
    "\n",
    "res.sort_values('count', ascending=False).head(10)"
   ]
  }
 ],
 "metadata": {
  "kernelspec": {
   "display_name": "data_viz",
   "language": "python",
   "name": "python3"
  },
  "language_info": {
   "codemirror_mode": {
    "name": "ipython",
    "version": 3
   },
   "file_extension": ".py",
   "mimetype": "text/x-python",
   "name": "python",
   "nbconvert_exporter": "python",
   "pygments_lexer": "ipython3",
   "version": "3.10.9"
  },
  "orig_nbformat": 4
 },
 "nbformat": 4,
 "nbformat_minor": 2
}
