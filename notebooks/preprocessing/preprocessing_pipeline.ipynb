{
 "cells": [
  {
   "attachments": {},
   "cell_type": "markdown",
   "metadata": {},
   "source": [
    "# 🧼 Data Preprocessing Pipeline\n",
    "\n",
    "In this section, we use the preprocessing pipeline to preprocess the data. A sequence of steps is applied to the data to clean it and prepare it for further analysis."
   ]
  },
  {
   "cell_type": "code",
   "execution_count": 54,
   "metadata": {},
   "outputs": [
    {
     "name": "stdout",
     "output_type": "stream",
     "text": [
      "The autoreload extension is already loaded. To reload it, use:\n",
      "  %reload_ext autoreload\n"
     ]
    }
   ],
   "source": [
    "%load_ext autoreload\n",
    "%autoreload 2"
   ]
  },
  {
   "cell_type": "code",
   "execution_count": 55,
   "metadata": {},
   "outputs": [],
   "source": [
    "import sys\n",
    "import os\n",
    "\n",
    "path_to_preprocessing = os.path.join('..', '..', 'src')\n",
    "sys.path.insert(0, path_to_preprocessing)\n",
    "\n",
    "from preprocessing.preprocessing_pipeline import preprocess_files"
   ]
  },
  {
   "cell_type": "code",
   "execution_count": 56,
   "metadata": {},
   "outputs": [
    {
     "name": "stdout",
     "output_type": "stream",
     "text": [
      "📁 Found 3 files in the data folder.\n",
      "⏳ Preprocessing data file for day 2023-04-04...\n",
      "\tDownloading and loading data...\n",
      "\tTranslating columns...\n",
      "\tProcessing product_id...\n",
      "\tProcessing transport_type...\n",
      "\tDownloading and loading BAV list...\n",
      "\tProcessing stops...\n",
      "\tProcessing arrivals...\n",
      "\tProcessing departures...\n",
      "\tHandling inconsistent rows...\n",
      "\tExtracting operator data...\n",
      "\tDeleting unnecessary columns...\n",
      "\tSaving data...\n",
      "😀 Done!\n",
      "⏳ Preprocessing data file for day 2023-04-05...\n",
      "\tDownloading and loading data...\n",
      "\tTranslating columns...\n",
      "\tProcessing product_id...\n",
      "\tProcessing transport_type...\n",
      "\tDownloading and loading BAV list...\n",
      "\tProcessing stops...\n",
      "\tProcessing arrivals...\n",
      "\tProcessing departures...\n",
      "\tHandling inconsistent rows...\n",
      "\tExtracting operator data...\n",
      "\tDeleting unnecessary columns...\n",
      "\tSaving data...\n",
      "😀 Done!\n",
      "⏳ Preprocessing data file for day 2023-04-06...\n",
      "\tDownloading and loading data...\n",
      "\tTranslating columns...\n",
      "\tProcessing product_id...\n",
      "\tProcessing transport_type...\n",
      "\tDownloading and loading BAV list...\n",
      "\tProcessing stops...\n",
      "\tProcessing arrivals...\n",
      "\tProcessing departures...\n",
      "\tHandling inconsistent rows...\n",
      "\tExtracting operator data...\n",
      "\tDeleting unnecessary columns...\n",
      "\tSaving data...\n",
      "😀 Done!\n"
     ]
    }
   ],
   "source": [
    "preprocess_files()"
   ]
  }
 ],
 "metadata": {
  "kernelspec": {
   "display_name": "data_viz",
   "language": "python",
   "name": "python3"
  },
  "language_info": {
   "codemirror_mode": {
    "name": "ipython",
    "version": 3
   },
   "file_extension": ".py",
   "mimetype": "text/x-python",
   "name": "python",
   "nbconvert_exporter": "python",
   "pygments_lexer": "ipython3",
   "version": "3.10.9"
  },
  "orig_nbformat": 4
 },
 "nbformat": 4,
 "nbformat_minor": 2
}
