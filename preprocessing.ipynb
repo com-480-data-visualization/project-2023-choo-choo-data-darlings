{
 "cells": [
  {
   "attachments": {},
   "cell_type": "markdown",
   "metadata": {},
   "source": [
    "# 🔍 Exploration and Data Preprocessing"
   ]
  },
  {
   "attachments": {},
   "cell_type": "markdown",
   "metadata": {},
   "source": [
    "In this section, we will take a first look at the data and preprocess it to make it more suitable for our analysis. The following steps will be performed:\n",
    "1. Download the data from the OpenTransportData platform for the 10th of March 2023.\n",
    "2. Remove unnecessary columns and translate the column names from German to English."
   ]
  },
  {
   "cell_type": "code",
   "execution_count": 4,
   "metadata": {},
   "outputs": [],
   "source": [
    "import pandas as pd"
   ]
  },
  {
   "attachments": {},
   "cell_type": "markdown",
   "metadata": {},
   "source": [
    "## Download the Data and Keep Interesting Columns"
   ]
  },
  {
   "attachments": {},
   "cell_type": "markdown",
   "metadata": {},
   "source": [
    "The data is available as a CSV file. We will use the `pandas` library to read the data into a `DataFrame` and keep only the columns that we are interested in. The data contains the following columns:\n",
    "| Column Name | Type | Description |\n",
    "| --- | --- | --- |\n",
    "| `BETRIEBSTAG` | Date (DD.MM.YYYY) | Date of the journey |\n",
    "| `FAHRT_BEZEICHNER` | String | Identifier of the journey (see https://opentransportdata.swiss/en/cookbook/fahrt-id-journeyref/) |\n",
    "| `BETREIBER_ID` | String | Identifier of the operator |\n",
    "| `BETREIBER_ABK` | String | Abbreviation of the operator |\n",
    "| `BETREIBER_NAME` | String | Name of the operator |\n",
    "| `PRODUKT_ID` | Category | Identifier of the product |\n",
    "| `LINIEN_ID` | String | Identifier of the line |\n",
    "| `LINIEN_TEXT` | String | Name of the line |\n",
    "| `UMLAUF_ID` | String | Identifier of the circuit (see https://opentransportdata.swiss/en/cookbook/umlauf/)|\n",
    "| `VERKEHRSMITTEL_TEXT` | String | Type of transport |\n",
    "| `ZUSATZFAHRT_TF` | Boolean | Whether the journey is an additional one |\n",
    "| `FAELLT_AUS_TF` | Boolean | Whether the journey is cancelled |\n",
    "| `BPUIC` | String | Identifier of the stop (see https://didok.ch/en/glossary-stop-points-location-codes/) |\n",
    "| `HALTESTELLEN_NAME` | String | Name of the stop |\n",
    "| `ANKUNFTSZEIT` | DateTime (DD.MM.YYYY HH:MM:SS) | Arrival time at the stop |\n",
    "| `AN_PROGNOSE` | DateTime (DD.MM.YYYY HH:MM:SS) | Arrival time at the stop (predicted) |\n",
    "| `AN_PROGNOSE_STATUS` | Category | Status of the predicted arrival time in [UNKNOWN, FORECAST, ESTIMATED, REAL, Empty] |\n",
    "| `ABFAHRTSZEIT` | DateTime (DD.MM.YYYY HH:MM:SS) | Departure time from the stop |\n",
    "| `AB_PROGNOSE` | DateTime (DD.MM.YYYY HH:MM:SS) | Departure time from the stop (predicted) |\n",
    "| `AB_PROGNOSE_STATUS` | Category | Status of the predicted departure time in [UNKNOWN, FORECAST, ESTIMATED, REAL, Empty] |\n",
    "| `DURCHFAHRT_TF` | Boolean | Whether the stop is a through stop |"
   ]
  },
  {
   "cell_type": "code",
   "execution_count": 5,
   "metadata": {},
   "outputs": [],
   "source": [
    "# False if you want to download the data from the internet\n",
    "LOCAL_DOWNLOAD = True\n",
    "DATE_FILE = '2023-03-10' # Format YYYY-MM-DD"
   ]
  },
  {
   "cell_type": "code",
   "execution_count": 8,
   "metadata": {},
   "outputs": [],
   "source": [
    "# Download the data\n",
    "DATA_LINK = f\"https://opentransportdata.swiss/dataset/0edc74a3-ad4d-486e-8657-f8f3b34a0979/resource/9de83058-0365-481d-85fa-a8477709b9fa/download/{DATE_FILE}_istdaten.csv\"\n",
    "DATA_FILE = f\"data/{DATE_FILE}_istdaten.csv\"\n",
    "DATA_PATH = DATA_FILE if LOCAL_DOWNLOAD else DATA_LINK\n",
    "transport_data = pd.read_csv(\n",
    "    DATA_LINK, \n",
    "    sep=';',\n",
    "    parse_dates=['BETRIEBSTAG', 'ANKUNFTSZEIT', 'AN_PROGNOSE', 'ABFAHRTSZEIT', 'AB_PROGNOSE'],\n",
    "    dtype={\n",
    "        'FAHRT_BEZEICHNER': 'string',\n",
    "        'BETRIEBER_ID': 'string',\n",
    "        'BETREIBER_ABK': 'string',\n",
    "        'BETREIBER_NAME': 'string',\n",
    "        'PRODUKT_ID': 'string',\n",
    "        'LINIEN_ID': 'string',\n",
    "        'LINIEN_TEXT': 'string',\n",
    "        'UMLAUF_ID': 'string',\n",
    "        'VERKEHRSMITTEL_TEXT': 'string',\n",
    "        'ZUSATZFAHRT_TF': 'boolean',\n",
    "        'FAELLT_AUS_TF': 'boolean',\n",
    "        'BPUIC': 'string',\n",
    "        'HALTESTELLEN_NAME': 'string',\n",
    "        'AN_PROGNOSE_STATUS': 'string',\n",
    "        'AB_PROGNOSE_STATUS': 'string',\n",
    "        'DURCHFAHRT_TF': 'boolean'\n",
    "    }\n",
    ")"
   ]
  },
  {
   "cell_type": "code",
   "execution_count": null,
   "metadata": {},
   "outputs": [],
   "source": [
    "transport_data.head()"
   ]
  },
  {
   "attachments": {},
   "cell_type": "markdown",
   "metadata": {},
   "source": [
    "## Translate Column Names"
   ]
  },
  {
   "cell_type": "code",
   "execution_count": null,
   "metadata": {},
   "outputs": [],
   "source": [
    "translations = {\n",
    "    'BETRIEBSTAG': 'date',\n",
    "    'FAHRT_BEZEICHNER': 'trip_id',\n",
    "    'BETRIEBER_ID': 'operator_id',\n",
    "    'BETREIBER_ABK': 'operator_abbreviation',\n",
    "    'BETREIBER_NAME': 'operator_name',\n",
    "    'PRODUKT_ID': 'product_id',\n",
    "    'LINIEN_ID': 'line_id',\n",
    "    'LINIEN_TEXT': 'line_text',\n",
    "    'UMLAUF_ID': 'circuit_id',\n",
    "    'VERKEHRSMITTEL_TEXT': 'transport_type',\n",
    "    'ZUSATZFAHRT_TF': 'is_additional_trip',\n",
    "    'FAELLT_AUS_TF': 'is_cancelled',\n",
    "    'BPUIC': 'stop_id',\n",
    "    'HALTESTELLEN_NAME': 'stop_name',\n",
    "    'ANKUNFTSZEIT': 'arrival_time',\n",
    "    'AN_PROGNOSE': 'arrival_forecast',\n",
    "    'AN_PROGNOSE_STATUS': 'arrival_forecast_status',\n",
    "    'ABFAHRTSZEIT': 'departure_time',\n",
    "    'AB_PROGNOSE': 'departure_forecast',\n",
    "    'AB_PROGNOSE_STATUS': 'departure_forecast_status',\n",
    "    'DURCHFAHRT_TF': 'is_through_trip'\n",
    "}\n",
    "\n",
    "transport_data = transport_data.rename(columns=translations)"
   ]
  }
 ],
 "metadata": {
  "kernelspec": {
   "display_name": "data_viz",
   "language": "python",
   "name": "python3"
  },
  "language_info": {
   "codemirror_mode": {
    "name": "ipython",
    "version": 3
   },
   "file_extension": ".py",
   "mimetype": "text/x-python",
   "name": "python",
   "nbconvert_exporter": "python",
   "pygments_lexer": "ipython3",
   "version": "3.10.9"
  },
  "orig_nbformat": 4
 },
 "nbformat": 4,
 "nbformat_minor": 2
}
