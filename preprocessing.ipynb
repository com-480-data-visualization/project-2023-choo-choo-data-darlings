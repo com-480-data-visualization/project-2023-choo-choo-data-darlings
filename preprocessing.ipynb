{
 "cells": [
  {
   "attachments": {},
   "cell_type": "markdown",
   "metadata": {},
   "source": [
    "# **🔍 Exploration and Data Preprocessing**"
   ]
  },
  {
   "cell_type": "code",
   "execution_count": 127,
   "metadata": {},
   "outputs": [],
   "source": [
    "import pandas as pd"
   ]
  },
  {
   "attachments": {},
   "cell_type": "markdown",
   "metadata": {},
   "source": [
    "## **💽 Download the Data and Investigate the Columns**"
   ]
  },
  {
   "attachments": {},
   "cell_type": "markdown",
   "metadata": {},
   "source": [
    "The data is available as a CSV file. We will use the `pandas` library to read the data into a `DataFrame` and keep only the columns that we are interested in. The data contains the following columns:\n",
    "| Column Name | Type | Description |\n",
    "| --- | --- | --- |\n",
    "| `BETRIEBSTAG` | Date (DD.MM.YYYY) | Date of the journey |\n",
    "| `FAHRT_BEZEICHNER` | String | Identifier of the journey (see https://opentransportdata.swiss/en/cookbook/fahrt-id-journeyref/) |\n",
    "| `BETREIBER_ID` | String | Identifier of the operator |\n",
    "| `BETREIBER_ABK` | String | Abbreviation of the operator |\n",
    "| `BETREIBER_NAME` | String | Name of the operator |\n",
    "| `PRODUKT_ID` | Category | Identifier of the product |\n",
    "| `LINIEN_ID` | String | Identifier of the line |\n",
    "| `LINIEN_TEXT` | String | Name of the line |\n",
    "| `UMLAUF_ID` | String | Identifier of the circuit (see https://opentransportdata.swiss/en/cookbook/umlauf/)|\n",
    "| `VERKEHRSMITTEL_TEXT` | String | Type of transport |\n",
    "| `ZUSATZFAHRT_TF` | Boolean | Whether the journey is an additional one |\n",
    "| `FAELLT_AUS_TF` | Boolean | Whether the journey is cancelled |\n",
    "| `BPUIC` | String | Identifier of the stop (see https://didok.ch/en/glossary-stop-points-location-codes/) |\n",
    "| `HALTESTELLEN_NAME` | String | Name of the stop |\n",
    "| `ANKUNFTSZEIT` | DateTime (DD.MM.YYYY HH:MM:SS) | Arrival time at the stop |\n",
    "| `AN_PROGNOSE` | DateTime (DD.MM.YYYY HH:MM:SS) | Arrival time at the stop (predicted) |\n",
    "| `AN_PROGNOSE_STATUS` | Category | Status of the predicted arrival time |\n",
    "| `ABFAHRTSZEIT` | DateTime (DD.MM.YYYY HH:MM:SS) | Departure time from the stop |\n",
    "| `AB_PROGNOSE` | DateTime (DD.MM.YYYY HH:MM:SS) | Departure time from the stop (predicted) |\n",
    "| `AB_PROGNOSE_STATUS` | Category | Status of the predicted departure time |\n",
    "| `DURCHFAHRT_TF` | Boolean | Whether the stop is a through stop |"
   ]
  },
  {
   "cell_type": "code",
   "execution_count": 128,
   "metadata": {},
   "outputs": [],
   "source": [
    "# False if you want to download the data from the internet\n",
    "LOCAL_DOWNLOAD = True\n",
    "DATE_FILE = '2023-03-10' # Format YYYY-MM-DD"
   ]
  },
  {
   "cell_type": "code",
   "execution_count": 129,
   "metadata": {},
   "outputs": [],
   "source": [
    "# Download the data\n",
    "DATA_LINK = f\"https://opentransportdata.swiss/dataset/0edc74a3-ad4d-486e-8657-f8f3b34a0979/resource/9de83058-0365-481d-85fa-a8477709b9fa/download/{DATE_FILE}_istdaten.csv\"\n",
    "DATA_FILE = f\"data/{DATE_FILE}_istdaten.csv\"\n",
    "DATA_PATH = DATA_FILE if LOCAL_DOWNLOAD else DATA_LINK\n",
    "transport_data = pd.read_csv(\n",
    "    DATA_PATH, \n",
    "    sep=';',\n",
    "    parse_dates=['BETRIEBSTAG', 'ANKUNFTSZEIT', 'AN_PROGNOSE', 'ABFAHRTSZEIT', 'AB_PROGNOSE'],\n",
    "    dtype={\n",
    "        'FAHRT_BEZEICHNER': 'string',\n",
    "        'BETRIEBER_ID': 'string',\n",
    "        'BETREIBER_ABK': 'string',\n",
    "        'BETREIBER_NAME': 'string',\n",
    "        'PRODUKT_ID': 'category',\n",
    "        'LINIEN_ID': 'string',\n",
    "        'LINIEN_TEXT': 'string',\n",
    "        'UMLAUF_ID': 'string',\n",
    "        'VERKEHRSMITTEL_TEXT': 'string',\n",
    "        'ZUSATZFAHRT_TF': 'boolean',\n",
    "        'FAELLT_AUS_TF': 'boolean',\n",
    "        'BPUIC': 'int',\n",
    "        'HALTESTELLEN_NAME': 'string',\n",
    "        'AN_PROGNOSE_STATUS': 'category',\n",
    "        'AB_PROGNOSE_STATUS': 'category',\n",
    "        'DURCHFAHRT_TF': 'boolean'\n",
    "    },\n",
    "    dayfirst=True\n",
    ")"
   ]
  },
  {
   "cell_type": "code",
   "execution_count": 130,
   "metadata": {},
   "outputs": [
    {
     "data": {
      "text/html": [
       "<div>\n",
       "<style scoped>\n",
       "    .dataframe tbody tr th:only-of-type {\n",
       "        vertical-align: middle;\n",
       "    }\n",
       "\n",
       "    .dataframe tbody tr th {\n",
       "        vertical-align: top;\n",
       "    }\n",
       "\n",
       "    .dataframe thead th {\n",
       "        text-align: right;\n",
       "    }\n",
       "</style>\n",
       "<table border=\"1\" class=\"dataframe\">\n",
       "  <thead>\n",
       "    <tr style=\"text-align: right;\">\n",
       "      <th></th>\n",
       "      <th>BETRIEBSTAG</th>\n",
       "      <th>FAHRT_BEZEICHNER</th>\n",
       "      <th>BETREIBER_ID</th>\n",
       "      <th>BETREIBER_ABK</th>\n",
       "      <th>BETREIBER_NAME</th>\n",
       "      <th>PRODUKT_ID</th>\n",
       "      <th>LINIEN_ID</th>\n",
       "      <th>LINIEN_TEXT</th>\n",
       "      <th>UMLAUF_ID</th>\n",
       "      <th>VERKEHRSMITTEL_TEXT</th>\n",
       "      <th>...</th>\n",
       "      <th>FAELLT_AUS_TF</th>\n",
       "      <th>BPUIC</th>\n",
       "      <th>HALTESTELLEN_NAME</th>\n",
       "      <th>ANKUNFTSZEIT</th>\n",
       "      <th>AN_PROGNOSE</th>\n",
       "      <th>AN_PROGNOSE_STATUS</th>\n",
       "      <th>ABFAHRTSZEIT</th>\n",
       "      <th>AB_PROGNOSE</th>\n",
       "      <th>AB_PROGNOSE_STATUS</th>\n",
       "      <th>DURCHFAHRT_TF</th>\n",
       "    </tr>\n",
       "  </thead>\n",
       "  <tbody>\n",
       "    <tr>\n",
       "      <th>0</th>\n",
       "      <td>2023-03-10</td>\n",
       "      <td>80:800631:17230:000</td>\n",
       "      <td>80:800631</td>\n",
       "      <td>DB</td>\n",
       "      <td>DB Regio AG Baden-Württemberg</td>\n",
       "      <td>Zug</td>\n",
       "      <td>17230</td>\n",
       "      <td>RB</td>\n",
       "      <td>&lt;NA&gt;</td>\n",
       "      <td>RB</td>\n",
       "      <td>...</td>\n",
       "      <td>False</td>\n",
       "      <td>8500090</td>\n",
       "      <td>Basel Bad Bf</td>\n",
       "      <td>2023-03-10 04:59:00</td>\n",
       "      <td>2023-03-10 04:59:00</td>\n",
       "      <td>PROGNOSE</td>\n",
       "      <td>NaT</td>\n",
       "      <td>NaT</td>\n",
       "      <td>NaN</td>\n",
       "      <td>False</td>\n",
       "    </tr>\n",
       "    <tr>\n",
       "      <th>1</th>\n",
       "      <td>2023-03-10</td>\n",
       "      <td>80:800631:17233:000</td>\n",
       "      <td>80:800631</td>\n",
       "      <td>DB</td>\n",
       "      <td>DB Regio AG Baden-Württemberg</td>\n",
       "      <td>Zug</td>\n",
       "      <td>17233</td>\n",
       "      <td>RB</td>\n",
       "      <td>&lt;NA&gt;</td>\n",
       "      <td>RB</td>\n",
       "      <td>...</td>\n",
       "      <td>False</td>\n",
       "      <td>8500090</td>\n",
       "      <td>Basel Bad Bf</td>\n",
       "      <td>NaT</td>\n",
       "      <td>NaT</td>\n",
       "      <td>NaN</td>\n",
       "      <td>2023-03-10 06:07:00</td>\n",
       "      <td>2023-03-10 06:07:00</td>\n",
       "      <td>PROGNOSE</td>\n",
       "      <td>False</td>\n",
       "    </tr>\n",
       "    <tr>\n",
       "      <th>2</th>\n",
       "      <td>2023-03-10</td>\n",
       "      <td>80:800631:17234:000</td>\n",
       "      <td>80:800631</td>\n",
       "      <td>DB</td>\n",
       "      <td>DB Regio AG Baden-Württemberg</td>\n",
       "      <td>Zug</td>\n",
       "      <td>17234</td>\n",
       "      <td>RB</td>\n",
       "      <td>&lt;NA&gt;</td>\n",
       "      <td>RB</td>\n",
       "      <td>...</td>\n",
       "      <td>True</td>\n",
       "      <td>8500090</td>\n",
       "      <td>Basel Bad Bf</td>\n",
       "      <td>2023-03-10 05:56:00</td>\n",
       "      <td>NaT</td>\n",
       "      <td>UNBEKANNT</td>\n",
       "      <td>NaT</td>\n",
       "      <td>NaT</td>\n",
       "      <td>UNBEKANNT</td>\n",
       "      <td>False</td>\n",
       "    </tr>\n",
       "    <tr>\n",
       "      <th>3</th>\n",
       "      <td>2023-03-10</td>\n",
       "      <td>80:800631:17235:000</td>\n",
       "      <td>80:800631</td>\n",
       "      <td>DB</td>\n",
       "      <td>DB Regio AG Baden-Württemberg</td>\n",
       "      <td>Zug</td>\n",
       "      <td>17235</td>\n",
       "      <td>RB</td>\n",
       "      <td>&lt;NA&gt;</td>\n",
       "      <td>RB</td>\n",
       "      <td>...</td>\n",
       "      <td>False</td>\n",
       "      <td>8500090</td>\n",
       "      <td>Basel Bad Bf</td>\n",
       "      <td>NaT</td>\n",
       "      <td>NaT</td>\n",
       "      <td>NaN</td>\n",
       "      <td>2023-03-10 06:43:00</td>\n",
       "      <td>2023-03-10 06:43:00</td>\n",
       "      <td>PROGNOSE</td>\n",
       "      <td>False</td>\n",
       "    </tr>\n",
       "    <tr>\n",
       "      <th>4</th>\n",
       "      <td>2023-03-10</td>\n",
       "      <td>80:800631:17236:000</td>\n",
       "      <td>80:800631</td>\n",
       "      <td>DB</td>\n",
       "      <td>DB Regio AG Baden-Württemberg</td>\n",
       "      <td>Zug</td>\n",
       "      <td>17236</td>\n",
       "      <td>RB</td>\n",
       "      <td>&lt;NA&gt;</td>\n",
       "      <td>RB</td>\n",
       "      <td>...</td>\n",
       "      <td>False</td>\n",
       "      <td>8500090</td>\n",
       "      <td>Basel Bad Bf</td>\n",
       "      <td>2023-03-10 06:33:00</td>\n",
       "      <td>2023-03-10 06:37:00</td>\n",
       "      <td>PROGNOSE</td>\n",
       "      <td>NaT</td>\n",
       "      <td>NaT</td>\n",
       "      <td>NaN</td>\n",
       "      <td>False</td>\n",
       "    </tr>\n",
       "  </tbody>\n",
       "</table>\n",
       "<p>5 rows × 21 columns</p>\n",
       "</div>"
      ],
      "text/plain": [
       "  BETRIEBSTAG     FAHRT_BEZEICHNER BETREIBER_ID BETREIBER_ABK  \\\n",
       "0  2023-03-10  80:800631:17230:000    80:800631            DB   \n",
       "1  2023-03-10  80:800631:17233:000    80:800631            DB   \n",
       "2  2023-03-10  80:800631:17234:000    80:800631            DB   \n",
       "3  2023-03-10  80:800631:17235:000    80:800631            DB   \n",
       "4  2023-03-10  80:800631:17236:000    80:800631            DB   \n",
       "\n",
       "                  BETREIBER_NAME PRODUKT_ID LINIEN_ID LINIEN_TEXT UMLAUF_ID  \\\n",
       "0  DB Regio AG Baden-Württemberg        Zug     17230          RB      <NA>   \n",
       "1  DB Regio AG Baden-Württemberg        Zug     17233          RB      <NA>   \n",
       "2  DB Regio AG Baden-Württemberg        Zug     17234          RB      <NA>   \n",
       "3  DB Regio AG Baden-Württemberg        Zug     17235          RB      <NA>   \n",
       "4  DB Regio AG Baden-Württemberg        Zug     17236          RB      <NA>   \n",
       "\n",
       "  VERKEHRSMITTEL_TEXT  ...  FAELLT_AUS_TF    BPUIC  HALTESTELLEN_NAME  \\\n",
       "0                  RB  ...          False  8500090       Basel Bad Bf   \n",
       "1                  RB  ...          False  8500090       Basel Bad Bf   \n",
       "2                  RB  ...           True  8500090       Basel Bad Bf   \n",
       "3                  RB  ...          False  8500090       Basel Bad Bf   \n",
       "4                  RB  ...          False  8500090       Basel Bad Bf   \n",
       "\n",
       "         ANKUNFTSZEIT         AN_PROGNOSE AN_PROGNOSE_STATUS  \\\n",
       "0 2023-03-10 04:59:00 2023-03-10 04:59:00           PROGNOSE   \n",
       "1                 NaT                 NaT                NaN   \n",
       "2 2023-03-10 05:56:00                 NaT          UNBEKANNT   \n",
       "3                 NaT                 NaT                NaN   \n",
       "4 2023-03-10 06:33:00 2023-03-10 06:37:00           PROGNOSE   \n",
       "\n",
       "         ABFAHRTSZEIT         AB_PROGNOSE AB_PROGNOSE_STATUS DURCHFAHRT_TF  \n",
       "0                 NaT                 NaT                NaN         False  \n",
       "1 2023-03-10 06:07:00 2023-03-10 06:07:00           PROGNOSE         False  \n",
       "2                 NaT                 NaT          UNBEKANNT         False  \n",
       "3 2023-03-10 06:43:00 2023-03-10 06:43:00           PROGNOSE         False  \n",
       "4                 NaT                 NaT                NaN         False  \n",
       "\n",
       "[5 rows x 21 columns]"
      ]
     },
     "execution_count": 130,
     "metadata": {},
     "output_type": "execute_result"
    }
   ],
   "source": [
    "transport_data.head()"
   ]
  },
  {
   "cell_type": "code",
   "execution_count": 131,
   "metadata": {},
   "outputs": [
    {
     "data": {
      "text/plain": [
       "BETRIEBSTAG            datetime64[ns]\n",
       "FAHRT_BEZEICHNER               string\n",
       "BETREIBER_ID                   object\n",
       "BETREIBER_ABK                  string\n",
       "BETREIBER_NAME                 string\n",
       "PRODUKT_ID                   category\n",
       "LINIEN_ID                      string\n",
       "LINIEN_TEXT                    string\n",
       "UMLAUF_ID                      string\n",
       "VERKEHRSMITTEL_TEXT            string\n",
       "ZUSATZFAHRT_TF                boolean\n",
       "FAELLT_AUS_TF                 boolean\n",
       "BPUIC                           int32\n",
       "HALTESTELLEN_NAME              string\n",
       "ANKUNFTSZEIT           datetime64[ns]\n",
       "AN_PROGNOSE            datetime64[ns]\n",
       "AN_PROGNOSE_STATUS           category\n",
       "ABFAHRTSZEIT           datetime64[ns]\n",
       "AB_PROGNOSE            datetime64[ns]\n",
       "AB_PROGNOSE_STATUS           category\n",
       "DURCHFAHRT_TF                 boolean\n",
       "dtype: object"
      ]
     },
     "execution_count": 131,
     "metadata": {},
     "output_type": "execute_result"
    }
   ],
   "source": [
    "transport_data.dtypes"
   ]
  },
  {
   "attachments": {},
   "cell_type": "markdown",
   "metadata": {},
   "source": [
    "## **💬 Translate Column Names**"
   ]
  },
  {
   "cell_type": "code",
   "execution_count": 132,
   "metadata": {},
   "outputs": [
    {
     "data": {
      "text/html": [
       "<div>\n",
       "<style scoped>\n",
       "    .dataframe tbody tr th:only-of-type {\n",
       "        vertical-align: middle;\n",
       "    }\n",
       "\n",
       "    .dataframe tbody tr th {\n",
       "        vertical-align: top;\n",
       "    }\n",
       "\n",
       "    .dataframe thead th {\n",
       "        text-align: right;\n",
       "    }\n",
       "</style>\n",
       "<table border=\"1\" class=\"dataframe\">\n",
       "  <thead>\n",
       "    <tr style=\"text-align: right;\">\n",
       "      <th></th>\n",
       "      <th>date</th>\n",
       "      <th>trip_id</th>\n",
       "      <th>operator_id</th>\n",
       "      <th>operator_abbreviation</th>\n",
       "      <th>operator_name</th>\n",
       "      <th>product_id</th>\n",
       "      <th>line_id</th>\n",
       "      <th>line_text</th>\n",
       "      <th>circuit_id</th>\n",
       "      <th>transport_type</th>\n",
       "      <th>...</th>\n",
       "      <th>is_cancelled</th>\n",
       "      <th>stop_id</th>\n",
       "      <th>stop_name</th>\n",
       "      <th>arrival_time</th>\n",
       "      <th>arrival_forecast</th>\n",
       "      <th>arrival_forecast_status</th>\n",
       "      <th>departure_time</th>\n",
       "      <th>departure_forecast</th>\n",
       "      <th>departure_forecast_status</th>\n",
       "      <th>is_through_trip</th>\n",
       "    </tr>\n",
       "  </thead>\n",
       "  <tbody>\n",
       "    <tr>\n",
       "      <th>0</th>\n",
       "      <td>2023-03-10</td>\n",
       "      <td>80:800631:17230:000</td>\n",
       "      <td>80:800631</td>\n",
       "      <td>DB</td>\n",
       "      <td>DB Regio AG Baden-Württemberg</td>\n",
       "      <td>Zug</td>\n",
       "      <td>17230</td>\n",
       "      <td>RB</td>\n",
       "      <td>&lt;NA&gt;</td>\n",
       "      <td>RB</td>\n",
       "      <td>...</td>\n",
       "      <td>False</td>\n",
       "      <td>8500090</td>\n",
       "      <td>Basel Bad Bf</td>\n",
       "      <td>2023-03-10 04:59:00</td>\n",
       "      <td>2023-03-10 04:59:00</td>\n",
       "      <td>PROGNOSE</td>\n",
       "      <td>NaT</td>\n",
       "      <td>NaT</td>\n",
       "      <td>NaN</td>\n",
       "      <td>False</td>\n",
       "    </tr>\n",
       "    <tr>\n",
       "      <th>1</th>\n",
       "      <td>2023-03-10</td>\n",
       "      <td>80:800631:17233:000</td>\n",
       "      <td>80:800631</td>\n",
       "      <td>DB</td>\n",
       "      <td>DB Regio AG Baden-Württemberg</td>\n",
       "      <td>Zug</td>\n",
       "      <td>17233</td>\n",
       "      <td>RB</td>\n",
       "      <td>&lt;NA&gt;</td>\n",
       "      <td>RB</td>\n",
       "      <td>...</td>\n",
       "      <td>False</td>\n",
       "      <td>8500090</td>\n",
       "      <td>Basel Bad Bf</td>\n",
       "      <td>NaT</td>\n",
       "      <td>NaT</td>\n",
       "      <td>NaN</td>\n",
       "      <td>2023-03-10 06:07:00</td>\n",
       "      <td>2023-03-10 06:07:00</td>\n",
       "      <td>PROGNOSE</td>\n",
       "      <td>False</td>\n",
       "    </tr>\n",
       "    <tr>\n",
       "      <th>2</th>\n",
       "      <td>2023-03-10</td>\n",
       "      <td>80:800631:17234:000</td>\n",
       "      <td>80:800631</td>\n",
       "      <td>DB</td>\n",
       "      <td>DB Regio AG Baden-Württemberg</td>\n",
       "      <td>Zug</td>\n",
       "      <td>17234</td>\n",
       "      <td>RB</td>\n",
       "      <td>&lt;NA&gt;</td>\n",
       "      <td>RB</td>\n",
       "      <td>...</td>\n",
       "      <td>True</td>\n",
       "      <td>8500090</td>\n",
       "      <td>Basel Bad Bf</td>\n",
       "      <td>2023-03-10 05:56:00</td>\n",
       "      <td>NaT</td>\n",
       "      <td>UNBEKANNT</td>\n",
       "      <td>NaT</td>\n",
       "      <td>NaT</td>\n",
       "      <td>UNBEKANNT</td>\n",
       "      <td>False</td>\n",
       "    </tr>\n",
       "    <tr>\n",
       "      <th>3</th>\n",
       "      <td>2023-03-10</td>\n",
       "      <td>80:800631:17235:000</td>\n",
       "      <td>80:800631</td>\n",
       "      <td>DB</td>\n",
       "      <td>DB Regio AG Baden-Württemberg</td>\n",
       "      <td>Zug</td>\n",
       "      <td>17235</td>\n",
       "      <td>RB</td>\n",
       "      <td>&lt;NA&gt;</td>\n",
       "      <td>RB</td>\n",
       "      <td>...</td>\n",
       "      <td>False</td>\n",
       "      <td>8500090</td>\n",
       "      <td>Basel Bad Bf</td>\n",
       "      <td>NaT</td>\n",
       "      <td>NaT</td>\n",
       "      <td>NaN</td>\n",
       "      <td>2023-03-10 06:43:00</td>\n",
       "      <td>2023-03-10 06:43:00</td>\n",
       "      <td>PROGNOSE</td>\n",
       "      <td>False</td>\n",
       "    </tr>\n",
       "    <tr>\n",
       "      <th>4</th>\n",
       "      <td>2023-03-10</td>\n",
       "      <td>80:800631:17236:000</td>\n",
       "      <td>80:800631</td>\n",
       "      <td>DB</td>\n",
       "      <td>DB Regio AG Baden-Württemberg</td>\n",
       "      <td>Zug</td>\n",
       "      <td>17236</td>\n",
       "      <td>RB</td>\n",
       "      <td>&lt;NA&gt;</td>\n",
       "      <td>RB</td>\n",
       "      <td>...</td>\n",
       "      <td>False</td>\n",
       "      <td>8500090</td>\n",
       "      <td>Basel Bad Bf</td>\n",
       "      <td>2023-03-10 06:33:00</td>\n",
       "      <td>2023-03-10 06:37:00</td>\n",
       "      <td>PROGNOSE</td>\n",
       "      <td>NaT</td>\n",
       "      <td>NaT</td>\n",
       "      <td>NaN</td>\n",
       "      <td>False</td>\n",
       "    </tr>\n",
       "  </tbody>\n",
       "</table>\n",
       "<p>5 rows × 21 columns</p>\n",
       "</div>"
      ],
      "text/plain": [
       "        date              trip_id operator_id operator_abbreviation  \\\n",
       "0 2023-03-10  80:800631:17230:000   80:800631                    DB   \n",
       "1 2023-03-10  80:800631:17233:000   80:800631                    DB   \n",
       "2 2023-03-10  80:800631:17234:000   80:800631                    DB   \n",
       "3 2023-03-10  80:800631:17235:000   80:800631                    DB   \n",
       "4 2023-03-10  80:800631:17236:000   80:800631                    DB   \n",
       "\n",
       "                   operator_name product_id line_id line_text circuit_id  \\\n",
       "0  DB Regio AG Baden-Württemberg        Zug   17230        RB       <NA>   \n",
       "1  DB Regio AG Baden-Württemberg        Zug   17233        RB       <NA>   \n",
       "2  DB Regio AG Baden-Württemberg        Zug   17234        RB       <NA>   \n",
       "3  DB Regio AG Baden-Württemberg        Zug   17235        RB       <NA>   \n",
       "4  DB Regio AG Baden-Württemberg        Zug   17236        RB       <NA>   \n",
       "\n",
       "  transport_type  ...  is_cancelled  stop_id     stop_name  \\\n",
       "0             RB  ...         False  8500090  Basel Bad Bf   \n",
       "1             RB  ...         False  8500090  Basel Bad Bf   \n",
       "2             RB  ...          True  8500090  Basel Bad Bf   \n",
       "3             RB  ...         False  8500090  Basel Bad Bf   \n",
       "4             RB  ...         False  8500090  Basel Bad Bf   \n",
       "\n",
       "         arrival_time    arrival_forecast arrival_forecast_status  \\\n",
       "0 2023-03-10 04:59:00 2023-03-10 04:59:00                PROGNOSE   \n",
       "1                 NaT                 NaT                     NaN   \n",
       "2 2023-03-10 05:56:00                 NaT               UNBEKANNT   \n",
       "3                 NaT                 NaT                     NaN   \n",
       "4 2023-03-10 06:33:00 2023-03-10 06:37:00                PROGNOSE   \n",
       "\n",
       "       departure_time  departure_forecast departure_forecast_status  \\\n",
       "0                 NaT                 NaT                       NaN   \n",
       "1 2023-03-10 06:07:00 2023-03-10 06:07:00                  PROGNOSE   \n",
       "2                 NaT                 NaT                 UNBEKANNT   \n",
       "3 2023-03-10 06:43:00 2023-03-10 06:43:00                  PROGNOSE   \n",
       "4                 NaT                 NaT                       NaN   \n",
       "\n",
       "  is_through_trip  \n",
       "0           False  \n",
       "1           False  \n",
       "2           False  \n",
       "3           False  \n",
       "4           False  \n",
       "\n",
       "[5 rows x 21 columns]"
      ]
     },
     "execution_count": 132,
     "metadata": {},
     "output_type": "execute_result"
    }
   ],
   "source": [
    "translations = {\n",
    "    'BETRIEBSTAG': 'date',\n",
    "    'FAHRT_BEZEICHNER': 'trip_id',\n",
    "    'BETREIBER_ID': 'operator_id',\n",
    "    'BETREIBER_ABK': 'operator_abbreviation',\n",
    "    'BETREIBER_NAME': 'operator_name',\n",
    "    'PRODUKT_ID': 'product_id',\n",
    "    'LINIEN_ID': 'line_id',\n",
    "    'LINIEN_TEXT': 'line_text',\n",
    "    'UMLAUF_ID': 'circuit_id',\n",
    "    'VERKEHRSMITTEL_TEXT': 'transport_type',\n",
    "    'ZUSATZFAHRT_TF': 'is_additional_trip',\n",
    "    'FAELLT_AUS_TF': 'is_cancelled',\n",
    "    'BPUIC': 'stop_id',\n",
    "    'HALTESTELLEN_NAME': 'stop_name',\n",
    "    'ANKUNFTSZEIT': 'arrival_time',\n",
    "    'AN_PROGNOSE': 'arrival_forecast',\n",
    "    'AN_PROGNOSE_STATUS': 'arrival_forecast_status',\n",
    "    'ABFAHRTSZEIT': 'departure_time',\n",
    "    'AB_PROGNOSE': 'departure_forecast',\n",
    "    'AB_PROGNOSE_STATUS': 'departure_forecast_status',\n",
    "    'DURCHFAHRT_TF': 'is_through_trip'\n",
    "}\n",
    "\n",
    "transport_data = transport_data.rename(columns=translations)\n",
    "transport_data.head()"
   ]
  },
  {
   "attachments": {},
   "cell_type": "markdown",
   "metadata": {},
   "source": [
    "## **🧼 Clean Data and Analyse Missing Values**"
   ]
  },
  {
   "cell_type": "code",
   "execution_count": 133,
   "metadata": {},
   "outputs": [
    {
     "name": "stdout",
     "output_type": "stream",
     "text": [
      "Number of rows in the dataset: 2,347,175\n"
     ]
    }
   ],
   "source": [
    "print(f\"Number of rows in the dataset: {transport_data.shape[0]:,}\")"
   ]
  },
  {
   "cell_type": "code",
   "execution_count": 134,
   "metadata": {},
   "outputs": [
    {
     "name": "stdout",
     "output_type": "stream",
     "text": [
      "Number of total missing values in the dataset: 2,268,631\n",
      "Number of missing values per column: \n"
     ]
    },
    {
     "data": {
      "text/plain": [
       "date                               0\n",
       "trip_id                            0\n",
       "operator_id                        0\n",
       "operator_abbreviation              0\n",
       "operator_name                      0\n",
       "product_id                       133\n",
       "line_id                            0\n",
       "line_text                          0\n",
       "circuit_id                   1209833\n",
       "transport_type                  7493\n",
       "is_additional_trip                 0\n",
       "is_cancelled                       0\n",
       "stop_id                            0\n",
       "stop_name                     158734\n",
       "arrival_time                  139571\n",
       "arrival_forecast              167560\n",
       "arrival_forecast_status       139195\n",
       "departure_time                139226\n",
       "departure_forecast            168000\n",
       "departure_forecast_status     138886\n",
       "is_through_trip                    0\n",
       "dtype: int64"
      ]
     },
     "execution_count": 134,
     "metadata": {},
     "output_type": "execute_result"
    }
   ],
   "source": [
    "# Get number of missing values per column\n",
    "print(f\"Number of total missing values in the dataset: {transport_data.isna().sum().sum():,}\")\n",
    "print(f\"Number of missing values per column: \")\n",
    "transport_data.isna().sum()"
   ]
  },
  {
   "attachments": {},
   "cell_type": "markdown",
   "metadata": {},
   "source": [
    "### **1️⃣ product_id**\n",
    "\n",
    "The product IDs in the dataset represent various modes of public transportation available in Switzerland:\n",
    "\n",
    "- **Bus**: Refers to bus services that connect different towns, cities, and suburbs, providing an essential mode of public transportation across the country.\n",
    "- **Train**: Refers to trains or railway services, which are a crucial part of the Swiss public transport system, connecting cities, towns, and regions.\n",
    "- **Cogwheel_railway**: Refers to cogwheel trains, a unique type of railway that uses a toothed rack rail to climb steep gradients, often found in mountainous regions of Switzerland.\n",
    "- **Metro**: Refers to urban rapid transit systems that provide high-capacity public transport within cities, such as the Lausanne Metro.\n",
    "- **Boat**: Refers to passenger ferries and boat services on Swiss lakes, connecting towns and tourist attractions along the lakeshores.\n",
    "- **Tram**: Refers to tram or light rail systems found in several Swiss cities, offering an efficient and eco-friendly mode of transportation within urban areas.\n",
    "\n",
    "We decide to do the following:\n",
    "\n",
    "- Delete all rows that have missing values in the `product_id` column.\n",
    "- Translate the product IDs into English.\n",
    "- Merge the `Bus` and `BUS` categories into a new single category `Bus`."
   ]
  },
  {
   "cell_type": "code",
   "execution_count": 135,
   "metadata": {},
   "outputs": [
    {
     "name": "stdout",
     "output_type": "stream",
     "text": [
      "Removing 133 rows with missing values in product_id.\n"
     ]
    }
   ],
   "source": [
    "# Remove rows with missing values in product_id\n",
    "print(f\"Removing {transport_data['product_id'].isna().sum():,} rows with missing values in product_id.\")\n",
    "transport_data = transport_data[transport_data['product_id'].notna()]"
   ]
  },
  {
   "cell_type": "code",
   "execution_count": 136,
   "metadata": {},
   "outputs": [],
   "source": [
    "# Merge Bus and BUS into Bus\n",
    "transport_data['product_id'] = transport_data['product_id'].str.replace('BUS', 'Bus')"
   ]
  },
  {
   "cell_type": "code",
   "execution_count": 137,
   "metadata": {},
   "outputs": [],
   "source": [
    "# Translate product_id\n",
    "transport_data['product_id'] = transport_data['product_id'].replace({\n",
    "    'Zahnradbahn': 'Cogwheel_railway',\n",
    "    'Schiff': 'Boat',\n",
    "    'Zug': 'Train',\n",
    "})"
   ]
  },
  {
   "cell_type": "code",
   "execution_count": 138,
   "metadata": {},
   "outputs": [
    {
     "name": "stdout",
     "output_type": "stream",
     "text": [
      "['Train', 'Bus', 'Cogwheel_railway', 'Metro', 'Boat', 'Tram']\n"
     ]
    }
   ],
   "source": [
    "print(transport_data['product_id'].unique().tolist())"
   ]
  },
  {
   "attachments": {},
   "cell_type": "markdown",
   "metadata": {},
   "source": [
    "### **2️⃣ transport_type**\n",
    "\n",
    "Transport types refer to the different modes of transportation available for travel, such as trains, buses, trams, and mountain railways. In Switzerland, various transport types are available for passengers to travel across different regions, from regional and intercity trains to buses and trams. Here is a list of some common transport types and their corresponding abbreviations in Switzerland:\n",
    "\n",
    "- **B** (`Bus`): Local and regional bus services, often integrated with the train network.\n",
    "- **BAT** (`Bootsanlegestelle`): Boat services offering scenic and leisurely journeys between towns and tourist attractions along the lakeshores.\n",
    "- _**BN** (`Bus`): Regional bus services in Switzerland, connecting smaller towns, villages, and specific points of interest._\n",
    "- ~~**Bus** (`Bus`): Local and regional bus services, often integrated with the train network.~~\n",
    "- **CAR** (`Car`): Specific bus or shuttle service that connects key points in Luzern.\n",
    "- **CC** (`Cogwheel Train`): Special types of trains designed to operate on steep gradients using a toothed rack rail system.\n",
    "- **EC** (`EuroCity`): International long-distance trains connecting Switzerland with neighboring countries.\n",
    "- **EXB** (`Expressbus`): Express bus services typically offer faster connections between key points within a region by having fewer stops than regular buses.\n",
    "- **EXT** (`Extrazug`): Extra trains or special services added to accommodate increased demand during peak travel periods or special events.\n",
    "- **FLX** (`Flixtrain`): Long-distance train service offering an affordable alternative to the more established train operators like Deutsche Bahn.\n",
    "- **IC** (`InterCity`): Long-distance express trains connecting major Swiss cities.\n",
    "- **ICE** (`InterCity-Express`): High-speed trains operating between Switzerland and Germany\n",
    "- **IR** (`InterRegio`): Regional express trains connecting larger cities and regions in Switzerland.\n",
    "- **IRE** (`InterRegio-Express`):  Trains that connect within a region and are faster than regular regional trains because they make fewer stops.\n",
    "- **M** (`Métro`): Urban rapid transit systems found in larger cities\n",
    "- **NJ** (`Nightjet`): Overnight train services operated by Austrian Federal Railways, connecting various cities in Europe, including Switzerland.\n",
    "- **PE** (`Panorama Express`): Trains offer passengers a unique and scenic experience through the Swiss Alps, focusing on picturesque landscapes and stunning views from the train's panoramic windows.\n",
    "- **R** (`Regio`): Regional trains connecting smaller towns and cities.\n",
    "- **RB** (`RegionalBahn`): Local, regional trains that stop at every station along the route.\n",
    "- **RE** (`RegioExpress`): Faster regional trains with limited stops.\n",
    "- **RJX** (`Railjet Express`): Trains connecting Austria with several neighboring countries, including Switzerland.\n",
    "- **S** (`S-Bahn`): Suburban rail network operating in and around major Swiss cities.\n",
    "- _**SN** (`S-Bahn`): Suburban rail network operating in and around major Swiss cities._\n",
    "- **T** (`Tram`): Urban light rail systems found in several Swiss cities.\n",
    "- **TER** (`Transport Express Régional`): Train service operated by SNCF, the French National Railway Company\n",
    "- **TGV** (`Train à Grande Vitesse`): High-speed trains operating between Switzerland and France.\n",
    "- _**TN** (`Tram`): Urban light rail systems found in several Swiss cities._\n",
    "- **Zug** (`Zug`): Train.\n",
    "\n",
    "We decide to do the following:\n",
    "\n",
    "- Delete all rows that have missing values in the `transport_type` column.\n",
    "- Merge the `B`, `BN` and `Bus` transport types into a new single `B` transport type.\n",
    "- Merge the `T` and `TN` transport types into a new single `T` transport type.\n",
    "- Merge the `S` and `SN` transport types into a new single `S` transport type.\n",
    "- Rename `Zug` to `Z`."
   ]
  },
  {
   "cell_type": "code",
   "execution_count": 139,
   "metadata": {},
   "outputs": [
    {
     "name": "stdout",
     "output_type": "stream",
     "text": [
      "Removing 7,493 rows with missing values in transport_type.\n"
     ]
    }
   ],
   "source": [
    "# Remove rows with missing values in product_id\n",
    "print(f\"Removing {transport_data['transport_type'].isna().sum():,} rows with missing values in transport_type.\")\n",
    "transport_data = transport_data[transport_data['transport_type'].notna()]"
   ]
  },
  {
   "cell_type": "code",
   "execution_count": 140,
   "metadata": {},
   "outputs": [],
   "source": [
    "# Merge B, BN and Bus into B\n",
    "transport_data['transport_type'] = transport_data['transport_type'].str.replace('BN', 'B')\n",
    "transport_data['transport_type'] = transport_data['transport_type'].str.replace('Bus', 'B')"
   ]
  },
  {
   "cell_type": "code",
   "execution_count": 141,
   "metadata": {},
   "outputs": [],
   "source": [
    "# Merge T and TN into T\n",
    "transport_data['transport_type'] = transport_data['transport_type'].str.replace('TN', 'T')"
   ]
  },
  {
   "cell_type": "code",
   "execution_count": 142,
   "metadata": {},
   "outputs": [],
   "source": [
    "# Merge S and SN into S\n",
    "transport_data['transport_type'] = transport_data['transport_type'].str.replace('SN', 'S')"
   ]
  },
  {
   "cell_type": "code",
   "execution_count": 143,
   "metadata": {},
   "outputs": [],
   "source": [
    "# Rename Zug to Z\n",
    "transport_data['transport_type'] = transport_data['transport_type'].str.replace('Zug', 'Z')"
   ]
  },
  {
   "cell_type": "code",
   "execution_count": 144,
   "metadata": {},
   "outputs": [],
   "source": [
    "# Delete rows with missing values in transport_type\n",
    "transport_data = transport_data[transport_data['transport_type'].notna()]"
   ]
  },
  {
   "cell_type": "code",
   "execution_count": 145,
   "metadata": {},
   "outputs": [
    {
     "name": "stdout",
     "output_type": "stream",
     "text": [
      "['RB', 'IRE', 'RE', 'ICE', 'FLX', 'S', 'B', 'R', 'IC', 'EC', 'IR', 'RJX', 'TER', 'EXT', 'NJ', 'TGV', 'CC', 'M', 'BAT', 'PE', 'T', 'CAR', 'EXB', 'Z']\n"
     ]
    }
   ],
   "source": [
    "print(transport_data['transport_type'].unique().tolist())"
   ]
  },
  {
   "attachments": {},
   "cell_type": "markdown",
   "metadata": {},
   "source": [
    "### **3️⃣ stop_name and new stop coordinates**\n",
    "\n",
    "We aim to fill in the missing `stop_name` values in the `transport_data` dataset by using an external dataset, `bav_data`, obtained from the _Swiss Open Transport Data_ repository [here](https://opentransportdata.swiss/fr/dataset/bav_liste). Moreover, we add latitude and longitude coordinates (CH1903+ / LV95) to the `transport_data` dataset using the `bav_data` dataset."
   ]
  },
  {
   "cell_type": "code",
   "execution_count": 146,
   "metadata": {},
   "outputs": [],
   "source": [
    "LOCAL_DOWNLOAD = True\n",
    "BAV_LINK = \"https://opentransportdata.swiss/dataset/b9d607ba-4ff5-43a6-ac83-293f454df1fd/resource/9fa965a0-b152-42c5-b1d1-839731e8500b/download/bav_list_current_timetable.xlsx\"\n",
    "BAV_FILE = \"data/bav_list_current_timetable.xlsx\"\n",
    "BAV_PATH = BAV_FILE if LOCAL_DOWNLOAD else BAV_LINK\n",
    "bav_data = pd.read_excel(BAV_PATH, skiprows=[0, 1, 3], usecols=[0, 4, 23, 24])\n",
    "bav_data = bav_data.rename(columns= {\n",
    "    'Dienststellen-\\nNummer siebenstellig': 'stop_id',\n",
    "    'Name \\n(Dst-Bezeichnung)': 'stop_name',\n",
    "    'E-Koordinate': 'stop_lon',\n",
    "    'N-Koordinate': 'stop_lat'\n",
    "})\n",
    "\n",
    "# delete rows with missing values\n",
    "bav_data = bav_data[bav_data['stop_id'].notna()]\n",
    "\n",
    "# Convert columns to correct data types\n",
    "bav_data['stop_id'] = bav_data['stop_id'].astype('int')\n",
    "bav_data['stop_name'] = bav_data['stop_name'].astype('string')\n",
    "bav_data['stop_lon'] = bav_data['stop_lon'].astype('int')\n",
    "bav_data['stop_lat'] = bav_data['stop_lat'].astype('int')"
   ]
  },
  {
   "cell_type": "code",
   "execution_count": 147,
   "metadata": {},
   "outputs": [
    {
     "data": {
      "text/plain": [
       "28540"
      ]
     },
     "execution_count": 147,
     "metadata": {},
     "output_type": "execute_result"
    }
   ],
   "source": [
    "bav_data.shape[0]"
   ]
  },
  {
   "cell_type": "code",
   "execution_count": 148,
   "metadata": {},
   "outputs": [
    {
     "data": {
      "text/html": [
       "<div>\n",
       "<style scoped>\n",
       "    .dataframe tbody tr th:only-of-type {\n",
       "        vertical-align: middle;\n",
       "    }\n",
       "\n",
       "    .dataframe tbody tr th {\n",
       "        vertical-align: top;\n",
       "    }\n",
       "\n",
       "    .dataframe thead th {\n",
       "        text-align: right;\n",
       "    }\n",
       "</style>\n",
       "<table border=\"1\" class=\"dataframe\">\n",
       "  <thead>\n",
       "    <tr style=\"text-align: right;\">\n",
       "      <th></th>\n",
       "      <th>stop_id</th>\n",
       "      <th>stop_name</th>\n",
       "      <th>stop_lon</th>\n",
       "      <th>stop_lat</th>\n",
       "    </tr>\n",
       "  </thead>\n",
       "  <tbody>\n",
       "    <tr>\n",
       "      <th>0</th>\n",
       "      <td>8506013</td>\n",
       "      <td>Aadorf</td>\n",
       "      <td>2710378</td>\n",
       "      <td>1260736</td>\n",
       "    </tr>\n",
       "    <tr>\n",
       "      <th>1</th>\n",
       "      <td>8573363</td>\n",
       "      <td>Aadorf, Bahnhof</td>\n",
       "      <td>2710335</td>\n",
       "      <td>1260772</td>\n",
       "    </tr>\n",
       "    <tr>\n",
       "      <th>2</th>\n",
       "      <td>8576958</td>\n",
       "      <td>Aadorf, Matthofstrasse</td>\n",
       "      <td>2710483</td>\n",
       "      <td>1260410</td>\n",
       "    </tr>\n",
       "    <tr>\n",
       "      <th>3</th>\n",
       "      <td>8506853</td>\n",
       "      <td>Aadorf, Morgental</td>\n",
       "      <td>2709830</td>\n",
       "      <td>1261377</td>\n",
       "    </tr>\n",
       "    <tr>\n",
       "      <th>4</th>\n",
       "      <td>8573362</td>\n",
       "      <td>Aadorf, Zentrum</td>\n",
       "      <td>2710079</td>\n",
       "      <td>1261059</td>\n",
       "    </tr>\n",
       "  </tbody>\n",
       "</table>\n",
       "</div>"
      ],
      "text/plain": [
       "   stop_id               stop_name  stop_lon  stop_lat\n",
       "0  8506013                  Aadorf   2710378   1260736\n",
       "1  8573363         Aadorf, Bahnhof   2710335   1260772\n",
       "2  8576958  Aadorf, Matthofstrasse   2710483   1260410\n",
       "3  8506853       Aadorf, Morgental   2709830   1261377\n",
       "4  8573362         Aadorf, Zentrum   2710079   1261059"
      ]
     },
     "execution_count": 148,
     "metadata": {},
     "output_type": "execute_result"
    }
   ],
   "source": [
    "bav_data.head()"
   ]
  },
  {
   "cell_type": "code",
   "execution_count": 149,
   "metadata": {},
   "outputs": [
    {
     "name": "stdout",
     "output_type": "stream",
     "text": [
      "Number of rows with missing values in stop_name before recovery: 151,241\n"
     ]
    }
   ],
   "source": [
    "print(f\"Number of rows with missing values in stop_name: {transport_data['stop_name'].isna().sum():,}\")"
   ]
  },
  {
   "cell_type": "code",
   "execution_count": 150,
   "metadata": {},
   "outputs": [
    {
     "name": "stdout",
     "output_type": "stream",
     "text": [
      "Removing 316 rows with missing values in stop_lon.\n",
      "Removing 0 rows with missing values in stop_lat.\n"
     ]
    }
   ],
   "source": [
    "# Merge transport_data and bav_data\n",
    "transport_data = transport_data.merge(bav_data, left_on='stop_id', right_on='stop_id', how='left')\n",
    "\n",
    "# Get name from BAV if missing in transport_data\n",
    "transport_data['stop_name'] = transport_data['stop_name_x'].fillna(transport_data['stop_name_y'])\n",
    "transport_data = transport_data.drop(columns=['stop_name_x', 'stop_name_y'])\n",
    "\n",
    "# Delete rows where coordinates of stop are missing\n",
    "print(f\"Removing {transport_data['stop_lon'].isna().sum():,} rows with missing values in stop_lon.\")\n",
    "transport_data = transport_data[transport_data['stop_lon'].notna()]\n",
    "print(f\"Removing {transport_data['stop_lat'].isna().sum():,} rows with missing values in stop_lat.\")\n",
    "transport_data = transport_data[transport_data['stop_lat'].notna()]"
   ]
  },
  {
   "attachments": {},
   "cell_type": "markdown",
   "metadata": {},
   "source": [
    "### **4️⃣ arrival_time, arrival_forecast and arrival_forecast_status**\n",
    "\n",
    "The field `arrival_time` described the theoretical arrival time of transportation at a stop. The field `arrival_forecast` describes the actual arrival time of transportation at a stop. The field `arrival_forecase_status` is an enumeration type field that describes the status of a transportation stop's arrival time. The possible values for this field are:\n",
    "\n",
    "- **ESTIMATED**: The actual arrival time has been estimated.\n",
    "- **FORECAST**: This stop is a forecast and has not yet been confirmed.\n",
    "- **REAL**: The effective actual arrival time has been confirmed.\n",
    "- ~~**UNKNOWN**: The status of the arrival time is unknown.~~\n",
    "\n",
    "We decide to do the following:\n",
    "\n",
    "- Delete all rows that have missing values in `arrival_time`, `arrival_forecast` and `arrival_forecast_status` columns.\n",
    "- Translate the `arrival_forecast_status` values into English.\n",
    "- Delete all rows that have `UNKNOWN` values in the `arrival_forecast_status` column."
   ]
  },
  {
   "cell_type": "code",
   "execution_count": 151,
   "metadata": {},
   "outputs": [
    {
     "name": "stdout",
     "output_type": "stream",
     "text": [
      "Removing 139,026 rows with missing values in arrival_time.\n",
      "Removing 27,981 rows with missing values in arrival_forecast.\n",
      "Removing 0 rows with missing values in arrival_forecast_status.\n"
     ]
    }
   ],
   "source": [
    "print(f\"Removing {transport_data['arrival_time'].isna().sum():,} rows with missing values in arrival_time.\")\n",
    "transport_data = transport_data[transport_data['arrival_time'].notna()]\n",
    "print(f\"Removing {transport_data['arrival_forecast'].isna().sum():,} rows with missing values in arrival_forecast.\")\n",
    "transport_data = transport_data[transport_data['arrival_forecast'].notna()]\n",
    "print(f\"Removing {transport_data['arrival_forecast_status'].isna().sum():,} rows with missing values in arrival_forecast_status.\")\n",
    "transport_data = transport_data[transport_data['arrival_forecast_status'].notna()]"
   ]
  },
  {
   "cell_type": "code",
   "execution_count": 152,
   "metadata": {},
   "outputs": [
    {
     "data": {
      "text/plain": [
       "['PROGNOSE', 'REAL', 'GESCHAETZT', 'UNBEKANNT']"
      ]
     },
     "execution_count": 152,
     "metadata": {},
     "output_type": "execute_result"
    }
   ],
   "source": [
    "transport_data['arrival_forecast_status'].unique().tolist()"
   ]
  },
  {
   "cell_type": "code",
   "execution_count": 153,
   "metadata": {},
   "outputs": [],
   "source": [
    "transport_data['arrival_forecast_status'] = transport_data['arrival_forecast_status'].replace({\n",
    "    'PROGNOSE': 'FORECAST',\n",
    "    'UNBEKANNT': 'UNKNOWN',\n",
    "    'REAL': 'REAL',\n",
    "    'GESCHAETZT': 'ESTIMATED',\n",
    "})"
   ]
  },
  {
   "cell_type": "code",
   "execution_count": 154,
   "metadata": {},
   "outputs": [
    {
     "name": "stdout",
     "output_type": "stream",
     "text": [
      "Removing 326 rows with arrival_forecast_status == UNKNOWN.\n"
     ]
    }
   ],
   "source": [
    "print(f\"Removing {transport_data[transport_data['arrival_forecast_status'] == 'UNKNOWN'].shape[0]:,} rows with arrival_forecast_status == UNKNOWN.\")\n",
    "transport_data = transport_data[transport_data['arrival_forecast_status'] != 'UNKNOWN']"
   ]
  },
  {
   "cell_type": "code",
   "execution_count": 155,
   "metadata": {},
   "outputs": [
    {
     "data": {
      "text/plain": [
       "['FORECAST', 'REAL', 'ESTIMATED']"
      ]
     },
     "execution_count": 155,
     "metadata": {},
     "output_type": "execute_result"
    }
   ],
   "source": [
    "transport_data['arrival_forecast_status'].unique().tolist()"
   ]
  },
  {
   "attachments": {},
   "cell_type": "markdown",
   "metadata": {},
   "source": [
    "### **5️⃣ departure_time, departure_forecast and departure_forecast_status**\n",
    "\n",
    "The field `departure_time` described the theoretical departure time of transportation at a stop. The field `departure_forecast` describes the actual departure time of transportation at a stop. The field `departure_forecase_status` is an enumeration type field that describes the status of a transportation stop's arrival time. The possible values for this field are:\n",
    "\n",
    "- **ESTIMATED**: The actual departure time has been estimated.\n",
    "- **FORECAST**: This stop is a forecast and has not yet been confirmed.\n",
    "- **REAL**: The effective actual departure time has been confirmed.\n",
    "- ~~**UNKNOWN**: The status of the departure time is unknown.~~\n",
    "\n",
    "We decide to do the following:\n",
    "\n",
    "- Delete all rows that have missing values in `departure_time`, `departure_forecast` and `departure_forecast_status` columns.\n",
    "- Translate the `departure_forecast_status` values into English.\n",
    "- Delete all rows that have `UNKNOWN` values in the `departure_forecast_status` column."
   ]
  },
  {
   "cell_type": "code",
   "execution_count": 156,
   "metadata": {},
   "outputs": [
    {
     "name": "stdout",
     "output_type": "stream",
     "text": [
      "Removing 136,591 rows with missing values in departure_time.\n",
      "Removing 617 rows with missing values in departure_forecast.\n",
      "Removing 0 rows with missing values in departure_forecast_status.\n"
     ]
    }
   ],
   "source": [
    "print(f\"Removing {transport_data['departure_time'].isna().sum():,} rows with missing values in departure_time.\")\n",
    "transport_data = transport_data[transport_data['departure_time'].notna()]\n",
    "print(f\"Removing {transport_data['departure_forecast'].isna().sum():,} rows with missing values in departure_forecast.\")\n",
    "transport_data = transport_data[transport_data['departure_forecast'].notna()]\n",
    "print(f\"Removing {transport_data['departure_forecast_status'].isna().sum():,} rows with missing values in departure_forecast_status.\")\n",
    "transport_data = transport_data[transport_data['departure_forecast_status'].notna()]"
   ]
  },
  {
   "cell_type": "code",
   "execution_count": 157,
   "metadata": {},
   "outputs": [
    {
     "data": {
      "text/plain": [
       "['REAL', 'PROGNOSE', 'GESCHAETZT', 'UNBEKANNT']"
      ]
     },
     "execution_count": 157,
     "metadata": {},
     "output_type": "execute_result"
    }
   ],
   "source": [
    "transport_data['departure_forecast_status'].unique().tolist()"
   ]
  },
  {
   "cell_type": "code",
   "execution_count": 158,
   "metadata": {},
   "outputs": [],
   "source": [
    "transport_data['departure_forecast_status'] = transport_data['departure_forecast_status'].replace({\n",
    "    'PROGNOSE': 'FORECAST',\n",
    "    'UNBEKANNT': 'UNKNOWN',\n",
    "    'REAL': 'REAL',\n",
    "    'GESCHAETZT': 'ESTIMATED',\n",
    "})"
   ]
  },
  {
   "cell_type": "code",
   "execution_count": 159,
   "metadata": {},
   "outputs": [
    {
     "name": "stdout",
     "output_type": "stream",
     "text": [
      "Removing 46 rows with departure_forecast_status == UNKNOWN.\n"
     ]
    }
   ],
   "source": [
    "print(f\"Removing {transport_data[transport_data['departure_forecast_status'] == 'UNKNOWN'].shape[0]:,} rows with departure_forecast_status == UNKNOWN.\")\n",
    "transport_data = transport_data[transport_data['departure_forecast_status'] != 'UNKNOWN']"
   ]
  },
  {
   "cell_type": "code",
   "execution_count": 160,
   "metadata": {},
   "outputs": [
    {
     "data": {
      "text/plain": [
       "['REAL', 'FORECAST', 'ESTIMATED']"
      ]
     },
     "execution_count": 160,
     "metadata": {},
     "output_type": "execute_result"
    }
   ],
   "source": [
    "transport_data['departure_forecast_status'].unique().tolist()"
   ]
  },
  {
   "cell_type": "code",
   "execution_count": 161,
   "metadata": {},
   "outputs": [
    {
     "name": "stdout",
     "output_type": "stream",
     "text": [
      "Number of total missing values in the dataset: 1,041,549\n",
      "Number of missing values per column: \n"
     ]
    },
    {
     "data": {
      "text/plain": [
       "date                               0\n",
       "trip_id                            0\n",
       "operator_id                        0\n",
       "operator_abbreviation              0\n",
       "operator_name                      0\n",
       "product_id                         0\n",
       "line_id                            0\n",
       "line_text                          0\n",
       "circuit_id                   1041549\n",
       "transport_type                     0\n",
       "is_additional_trip                 0\n",
       "is_cancelled                       0\n",
       "stop_id                            0\n",
       "arrival_time                       0\n",
       "arrival_forecast                   0\n",
       "arrival_forecast_status            0\n",
       "departure_time                     0\n",
       "departure_forecast                 0\n",
       "departure_forecast_status          0\n",
       "is_through_trip                    0\n",
       "stop_lon                           0\n",
       "stop_lat                           0\n",
       "stop_name                          0\n",
       "dtype: int64"
      ]
     },
     "execution_count": 161,
     "metadata": {},
     "output_type": "execute_result"
    }
   ],
   "source": [
    "# Get number of missing values per column\n",
    "print(f\"Number of total missing values in the dataset: {transport_data.isna().sum().sum():,}\")\n",
    "print(f\"Number of missing values per column: \")\n",
    "transport_data.isna().sum()"
   ]
  },
  {
   "attachments": {},
   "cell_type": "markdown",
   "metadata": {},
   "source": [
    "## **🗑️ Remove Unnecessary Columns**\n",
    "\n",
    "We will remove the following columns:\n",
    "- `circuit_id`: Circuits start whenever the vehicle drives out of the depot/garage and end when it drives back in again. More than half of the values are missing and we will not use it in our analysis."
   ]
  },
  {
   "cell_type": "code",
   "execution_count": 162,
   "metadata": {},
   "outputs": [],
   "source": [
    "useless_columns = ['circuit_id']\n",
    "transport_data = transport_data.drop(columns=useless_columns)"
   ]
  },
  {
   "attachments": {},
   "cell_type": "markdown",
   "metadata": {},
   "source": [
    "## **💾 Save Cleaned Data**"
   ]
  },
  {
   "cell_type": "code",
   "execution_count": 165,
   "metadata": {},
   "outputs": [],
   "source": [
    "CLEANED_DATA_PATH = f\"data/{DATE_FILE}_istdaten_cleaned.parquet\"\n",
    "transport_data.to_parquet(CLEANED_DATA_PATH)"
   ]
  }
 ],
 "metadata": {
  "kernelspec": {
   "display_name": "data_viz",
   "language": "python",
   "name": "python3"
  },
  "language_info": {
   "codemirror_mode": {
    "name": "ipython",
    "version": 3
   },
   "file_extension": ".py",
   "mimetype": "text/x-python",
   "name": "python",
   "nbconvert_exporter": "python",
   "pygments_lexer": "ipython3",
   "version": "3.10.9"
  },
  "orig_nbformat": 4
 },
 "nbformat": 4,
 "nbformat_minor": 2
}
